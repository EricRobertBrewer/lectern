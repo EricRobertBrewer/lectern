{
 "cells": [
  {
   "cell_type": "code",
   "execution_count": 1,
   "id": "fca5a98e-f099-4c3b-97e9-fbbecd91dfd2",
   "metadata": {},
   "outputs": [
    {
     "name": "stdout",
     "output_type": "stream",
     "text": [
      "/Users/brewer/Code/Eric/lectern/analyze\n"
     ]
    }
   ],
   "source": [
    "%cd ../.."
   ]
  },
  {
   "cell_type": "markdown",
   "id": "d0d22a6e-54b6-4c73-8727-ae3250c3f2bd",
   "metadata": {},
   "source": [
    "# 23_ref_meta"
   ]
  },
  {
   "cell_type": "code",
   "execution_count": 2,
   "id": "f6f453e4-d8ec-40d4-aa36-9a3278d88d1a",
   "metadata": {},
   "outputs": [],
   "source": [
    "import sqlite3\n",
    "\n",
    "import pandas as pd\n",
    "from matplotlib import pyplot as plt\n",
    "\n",
    "from lectern.analyze import namespaces\n",
    "from lectern.analyze.trie import TrieNode"
   ]
  },
  {
   "cell_type": "code",
   "execution_count": 3,
   "id": "cbe477a4-bb41-4241-b12c-82c209bbf971",
   "metadata": {},
   "outputs": [
    {
     "name": "stdout",
     "output_type": "stream",
     "text": [
      "43851\n"
     ]
    },
    {
     "data": {
      "text/html": [
       "<div>\n",
       "<style scoped>\n",
       "    .dataframe tbody tr th:only-of-type {\n",
       "        vertical-align: middle;\n",
       "    }\n",
       "\n",
       "    .dataframe tbody tr th {\n",
       "        vertical-align: top;\n",
       "    }\n",
       "\n",
       "    .dataframe thead th {\n",
       "        text-align: right;\n",
       "    }\n",
       "</style>\n",
       "<table border=\"1\" class=\"dataframe\">\n",
       "  <thead>\n",
       "    <tr style=\"text-align: right;\">\n",
       "      <th></th>\n",
       "      <th>conference</th>\n",
       "      <th>ordinal</th>\n",
       "      <th>url</th>\n",
       "      <th>lines</th>\n",
       "      <th>notes</th>\n",
       "    </tr>\n",
       "  </thead>\n",
       "  <tbody>\n",
       "    <tr>\n",
       "      <th>0</th>\n",
       "      <td>1971-04</td>\n",
       "      <td>0</td>\n",
       "      <td>https://www.churchofjesuschrist.org/study/scri...</td>\n",
       "      <td>17</td>\n",
       "      <td>None</td>\n",
       "    </tr>\n",
       "    <tr>\n",
       "      <th>1</th>\n",
       "      <td>1971-04</td>\n",
       "      <td>0</td>\n",
       "      <td>https://www.churchofjesuschrist.org/study/scri...</td>\n",
       "      <td>19</td>\n",
       "      <td>None</td>\n",
       "    </tr>\n",
       "    <tr>\n",
       "      <th>2</th>\n",
       "      <td>1971-04</td>\n",
       "      <td>1</td>\n",
       "      <td>https://www.churchofjesuschrist.org/study/scri...</td>\n",
       "      <td>37</td>\n",
       "      <td>None</td>\n",
       "    </tr>\n",
       "    <tr>\n",
       "      <th>3</th>\n",
       "      <td>1971-04</td>\n",
       "      <td>1</td>\n",
       "      <td>https://www.churchofjesuschrist.org/study/scri...</td>\n",
       "      <td>36</td>\n",
       "      <td>None</td>\n",
       "    </tr>\n",
       "    <tr>\n",
       "      <th>4</th>\n",
       "      <td>1971-04</td>\n",
       "      <td>1</td>\n",
       "      <td>https://www.churchofjesuschrist.org/study/scri...</td>\n",
       "      <td>12</td>\n",
       "      <td>None</td>\n",
       "    </tr>\n",
       "  </tbody>\n",
       "</table>\n",
       "</div>"
      ],
      "text/plain": [
       "  conference  ordinal                                                url  \\\n",
       "0    1971-04        0  https://www.churchofjesuschrist.org/study/scri...   \n",
       "1    1971-04        0  https://www.churchofjesuschrist.org/study/scri...   \n",
       "2    1971-04        1  https://www.churchofjesuschrist.org/study/scri...   \n",
       "3    1971-04        1  https://www.churchofjesuschrist.org/study/scri...   \n",
       "4    1971-04        1  https://www.churchofjesuschrist.org/study/scri...   \n",
       "\n",
       "  lines notes  \n",
       "0    17  None  \n",
       "1    19  None  \n",
       "2    37  None  \n",
       "3    36  None  \n",
       "4    12  None  "
      ]
     },
     "execution_count": 3,
     "metadata": {},
     "output_type": "execute_result"
    }
   ],
   "source": [
    "table = namespaces.TABLE_GENERAL_CONFERENCE_ADDRESS_REF\n",
    "with sqlite3.connect(namespaces.DATABASE_APP_DEFAULT) as con:\n",
    "  df = pd.read_sql_query('SELECT * FROM {} ORDER BY conference ASC, ordinal ASC;'.format(table), con)\n",
    "print(len(df))\n",
    "df.head()"
   ]
  },
  {
   "cell_type": "markdown",
   "id": "f85be247-adc1-455e-a6f3-11fd65984461",
   "metadata": {},
   "source": [
    "## Url\n",
    "\n",
    "To which domains do addresses refer?"
   ]
  },
  {
   "cell_type": "code",
   "execution_count": 4,
   "id": "0b28ce08-9348-4c8a-ba42-eedc57f2e0ea",
   "metadata": {},
   "outputs": [
    {
     "data": {
      "text/plain": [
       "43851"
      ]
     },
     "execution_count": 4,
     "metadata": {},
     "output_type": "execute_result"
    }
   ],
   "source": [
    "root = TrieNode.root()\n",
    "for _, row in df.iterrows():\n",
    "  root.insert(row['url'])\n",
    "len(root)"
   ]
  },
  {
   "cell_type": "code",
   "execution_count": 5,
   "id": "bb812e99-ce46-4d4d-843d-caf490aa422b",
   "metadata": {},
   "outputs": [
    {
     "data": {
      "text/plain": [
       "[('https://www.churchofjesuschrist.org/study/scriptures/pgp/moses/1.39?lang=eng',\n",
       "  206),\n",
       " ('https://www.churchofjesuschrist.org/study/scriptures/bofm/mosiah/3.19?lang=eng',\n",
       "  113),\n",
       " ('https://www.churchofjesuschrist.org/study/scriptures/bofm/2-ne/31.20?lang=eng',\n",
       "  90)]"
      ]
     },
     "execution_count": 5,
     "metadata": {},
     "output_type": "execute_result"
    }
   ],
   "source": [
    "completions = root.completions()\n",
    "completions[:3]"
   ]
  },
  {
   "cell_type": "code",
   "execution_count": 8,
   "id": "99464487-673b-48f5-8073-e432ff9c9e03",
   "metadata": {},
   "outputs": [
    {
     "data": {
      "text/plain": [
       "[('http', 43851),\n",
       " ('https://', 43754),\n",
       " ('https://w', 42305),\n",
       " ('https://www.', 42303),\n",
       " ('https://www.c', 42218),\n",
       " ('https://www.church', 42217),\n",
       " ('https://www.churchofjesuschrist.org/', 42215),\n",
       " ('https://www.churchofjesuschrist.org/s', 42189),\n",
       " ('https://www.churchofjesuschrist.org/study/', 42186),\n",
       " ('https://www.churchofjesuschrist.org/study/scriptures/', 40979),\n",
       " ('https://www.churchofjesuschrist.org/study/scriptures/nt/', 12203),\n",
       " ('https://www.churchofjesuschrist.org/study/scriptures/b', 11964),\n",
       " ('https://www.churchofjesuschrist.org/study/scriptures/bofm/', 11918),\n",
       " ('https://www.churchofjesuschrist.org/study/scriptures/dc-testament/', 10028),\n",
       " ('https://www.churchofjesuschrist.org/study/scriptures/dc-testament/dc/',\n",
       "  10021),\n",
       " ('https://www.churchofjesuschrist.org/study/scriptures/ot/', 4388),\n",
       " ('https://www.churchofjesuschrist.org/study/scriptures/dc-testament/dc/1',\n",
       "  3880),\n",
       " ('https://www.churchofjesuschrist.org/study/scriptures/nt/ma', 3510),\n",
       " ('https://www.churchofjesuschrist.org/study/scriptures/bofm/alma/', 2982),\n",
       " ('https://www.churchofjesuschrist.org/study/scriptures/nt/matt/', 2960)]"
      ]
     },
     "execution_count": 8,
     "metadata": {},
     "output_type": "execute_result"
    }
   ],
   "source": [
    "prefixes = root.prefixes()\n",
    "prefixes[:20]"
   ]
  },
  {
   "cell_type": "code",
   "execution_count": 10,
   "id": "70c24de3-dcf3-4ab2-a8ed-102eb4d692b0",
   "metadata": {},
   "outputs": [],
   "source": [
    "PREFIX_CHURCH = 'https://www.churchofjesuschrist.org/'\n",
    "PREFIX_CHURCH_STUDY = PREFIX_CHURCH + 'study/'\n",
    "PREFIX_CHURCH_STUDY_ENSIGN = PREFIX_CHURCH_STUDY + 'ensign/'\n",
    "PREFIX_CHURCH_STUDY_CONFERENCE = PREFIX_CHURCH_STUDY + 'general-conference/'\n",
    "PREFIX_CHURCH_STUDY_LIAHONA = PREFIX_CHURCH_STUDY + 'liahona/'"
   ]
  },
  {
   "cell_type": "code",
   "execution_count": 11,
   "id": "bf348248-5f31-46b4-a281-650b7053ec5f",
   "metadata": {},
   "outputs": [
    {
     "data": {
      "text/plain": [
       "[('https://www.churchofjesuschrist.org/study/ensign/', 58),\n",
       " ('https://www.churchofjesuschrist.org/study/ensign/19', 40),\n",
       " ('https://www.churchofjesuschrist.org/study/ensign/20', 18),\n",
       " ('https://www.churchofjesuschrist.org/study/ensign/197', 7),\n",
       " ('https://www.churchofjesuschrist.org/study/ensign/198', 18),\n",
       " ('https://www.churchofjesuschrist.org/study/ensign/199', 15),\n",
       " ('https://www.churchofjesuschrist.org/study/ensign/200', 8),\n",
       " ('https://www.churchofjesuschrist.org/study/ensign/201', 8),\n",
       " ('https://www.churchofjesuschrist.org/study/ensign/1974/', 3),\n",
       " ('https://www.churchofjesuschrist.org/study/ensign/1980/', 3)]"
      ]
     },
     "execution_count": 11,
     "metadata": {},
     "output_type": "execute_result"
    }
   ],
   "source": [
    "ensign_prefixes = root.prefixes(prefix=PREFIX_CHURCH_STUDY_ENSIGN, order='len')\n",
    "ensign_prefixes[:10]"
   ]
  },
  {
   "cell_type": "code",
   "execution_count": 12,
   "id": "0f36b6b2-c386-49b6-abfa-2f26b067a4b4",
   "metadata": {},
   "outputs": [
    {
     "data": {
      "text/plain": [
       "[('https://www.churchofjesuschrist.org/study/general-conference/', 739),\n",
       " ('https://www.churchofjesuschrist.org/study/general-conference/19', 142),\n",
       " ('https://www.churchofjesuschrist.org/study/general-conference/20', 597),\n",
       " ('https://www.churchofjesuschrist.org/study/general-conference/197', 13),\n",
       " ('https://www.churchofjesuschrist.org/study/general-conference/198', 38),\n",
       " ('https://www.churchofjesuschrist.org/study/general-conference/199', 91),\n",
       " ('https://www.churchofjesuschrist.org/study/general-conference/200', 136),\n",
       " ('https://www.churchofjesuschrist.org/study/general-conference/201', 387),\n",
       " ('https://www.churchofjesuschrist.org/study/general-conference/202', 74),\n",
       " ('https://www.churchofjesuschrist.org/study/general-conference/1974/', 4)]"
      ]
     },
     "execution_count": 12,
     "metadata": {},
     "output_type": "execute_result"
    }
   ],
   "source": [
    "conference_prefixes = root.prefixes(prefix=PREFIX_CHURCH_STUDY_CONFERENCE, order='len')\n",
    "conference_prefixes[:10]"
   ]
  },
  {
   "cell_type": "code",
   "execution_count": 13,
   "id": "5a03041d-e62c-41a8-87f7-5923058f81e4",
   "metadata": {},
   "outputs": [
    {
     "data": {
      "text/plain": [
       "[('https://www.churchofjesuschrist.org/study/liahona/', 115),\n",
       " ('https://www.churchofjesuschrist.org/study/liahona/19', 7),\n",
       " ('https://www.churchofjesuschrist.org/study/liahona/20', 108),\n",
       " ('https://www.churchofjesuschrist.org/study/liahona/198', 2),\n",
       " ('https://www.churchofjesuschrist.org/study/liahona/199', 4),\n",
       " ('https://www.churchofjesuschrist.org/study/liahona/200', 21),\n",
       " ('https://www.churchofjesuschrist.org/study/liahona/201', 83),\n",
       " ('https://www.churchofjesuschrist.org/study/liahona/202', 4),\n",
       " ('https://www.churchofjesuschrist.org/study/liahona/2010/', 11),\n",
       " ('https://www.churchofjesuschrist.org/study/liahona/2012/', 8)]"
      ]
     },
     "execution_count": 13,
     "metadata": {},
     "output_type": "execute_result"
    }
   ],
   "source": [
    "liahona_prefixes = root.prefixes(prefix=PREFIX_CHURCH_STUDY_LIAHONA, order='len')\n",
    "liahona_prefixes[:10]"
   ]
  },
  {
   "cell_type": "code",
   "execution_count": null,
   "id": "5c39ddb7-e6a9-45a5-b0d5-876c5576f9dd",
   "metadata": {},
   "outputs": [],
   "source": []
  }
 ],
 "metadata": {
  "kernelspec": {
   "display_name": "lectern-analyze",
   "language": "python",
   "name": "lectern-analyze"
  },
  "language_info": {
   "codemirror_mode": {
    "name": "ipython",
    "version": 3
   },
   "file_extension": ".py",
   "mimetype": "text/x-python",
   "name": "python",
   "nbconvert_exporter": "python",
   "pygments_lexer": "ipython3",
   "version": "3.8.0"
  }
 },
 "nbformat": 4,
 "nbformat_minor": 5
}
