{
 "cells": [
  {
   "cell_type": "code",
   "execution_count": null,
   "id": "efda6154-25ee-4393-b1d6-a16318b7d873",
   "metadata": {},
   "outputs": [],
   "source": [
    "%cd ../.."
   ]
  },
  {
   "cell_type": "markdown",
   "id": "4ed7b8c8-d688-4fd8-ba47-5254695e9663",
   "metadata": {},
   "source": [
    "# 11_address_category\n",
    "\n",
    "#### **WARNING:** This notebook mutates the database. Create a backup of the database before running.\n",
    "\n",
    "Assign a category to conference addresses."
   ]
  },
  {
   "cell_type": "code",
   "execution_count": null,
   "id": "9fe7d767-c151-440c-8e47-dabaf87a9dcd",
   "metadata": {},
   "outputs": [],
   "source": [
    "import sqlite3\n",
    "\n",
    "from matplotlib import pyplot as plt\n",
    "\n",
    "from lectern.analyze import namespaces"
   ]
  },
  {
   "cell_type": "code",
   "execution_count": null,
   "id": "17911a89-92e9-43c7-b746-e39450f63725",
   "metadata": {},
   "outputs": [],
   "source": [
    "table = namespaces.TABLE_GENERAL_CONFERENCE_ADDRESS\n",
    "with sqlite3.connect(namespaces.DATABASE_APP_DEFAULT) as con:\n",
    "  col_infos = con.execute('PRAGMA table_info({});'.format(table))\n",
    "  cols = [info[1] for info in col_infos]\n",
    "  cols_to_index = {col: i for i, col in enumerate(cols)}\n",
    "  rows = list(con.execute('SELECT * FROM {} ORDER BY conference ASC, ordinal ASC;'.format(table)))\n",
    "print(cols)\n",
    "print(len(rows))\n",
    "rows[0]"
   ]
  },
  {
   "cell_type": "markdown",
   "id": "faafd5ef-91e9-411b-ac72-d824f0c43a1c",
   "metadata": {},
   "source": [
    "How many conferences have occurred?"
   ]
  },
  {
   "cell_type": "code",
   "execution_count": null,
   "id": "cc3f4ecc-52e9-4400-a313-e706471ab515",
   "metadata": {},
   "outputs": [],
   "source": [
    "conferences = [row[cols_to_index['conference']] for row in rows]\n",
    "len(set(conferences))"
   ]
  },
  {
   "cell_type": "markdown",
   "id": "c8dd2e17-352a-4846-b88f-37d19cd7176a",
   "metadata": {},
   "source": [
    "## Sustainings\n",
    "\n",
    "These occur every conference.\n",
    "\n",
    "We _would_ expect to match the number of sustainings to match the total number of conferences, but in April 2018, both a [solemn assembly](https://churchofjesuschrist.org/study/general-conference/2018/04/solemn-assembly?lang=eng) to sustain the new prophet, Russell M. Nelson, and his Presidency _and_ a [sustaining](https://churchofjesuschrist.org/study/general-conference/2018/04/the-sustaining-of-church-officers?lang=eng) for the other general officers were held."
   ]
  },
  {
   "cell_type": "code",
   "execution_count": null,
   "id": "dba584ed-1d0a-4698-b28d-2c38a55ff8e1",
   "metadata": {},
   "outputs": [],
   "source": [
    "sustaining_rows = list()\n",
    "for row in rows:\n",
    "  title = row[cols_to_index['title']]\n",
    "  if (('Sustaining' in title or 'Sustained' in title) and 'Officers' in title) or\\\n",
    "    'Solemn Assembly' in title:\n",
    "    sustaining_rows.append(row)\n",
    "    if len(sustaining_rows) == 1:\n",
    "      continue\n",
    "    year, month = row[cols_to_index['conference']].split('-')\n",
    "    last_row = sustaining_rows[-2]\n",
    "    last_year, last_month = last_row[cols_to_index['conference']].split('-')\n",
    "    if year == last_year and month == last_month:\n",
    "      print('Duplicate addresses in same year: {}'.format(year))\n",
    "      print(last_row)\n",
    "      print(row)\n",
    "      print()\n",
    "    elif int(year) == int(last_year) + 1 and month == last_month:\n",
    "      print('Missing address after conference: {}-{}'.format(last_year, last_month))\n",
    "len(sustaining_rows)"
   ]
  },
  {
   "cell_type": "markdown",
   "id": "65068bb4-1283-4f5c-8bf1-7608b721f9ca",
   "metadata": {},
   "source": [
    "## Statistical Reports\n",
    "\n",
    "These usually occurred once per year, but were discontinued [in 2018](https://churchofjesuschrist.org/study/general-conference/2018/04/the-sustaining-of-church-officers?lang=eng):\n",
    "\n",
    "> We note that the statistical report which has traditionally been presented during this session of April general conference will now be published on LDS.org immediately following this meeting and will be included in the conference issue of the Church magazines.\n",
    "\n",
    "This means that the number of statistical reports given should be `2017 - 1970 = 47`."
   ]
  },
  {
   "cell_type": "code",
   "execution_count": null,
   "id": "c2bc34fe-feb4-4759-bed4-9e8cce6a5f4d",
   "metadata": {},
   "outputs": [],
   "source": [
    "statistical_rows = list()\n",
    "for row in rows:\n",
    "  title = row[cols_to_index['title']]\n",
    "  if ('Statistical Report' in title or  # Most years.\n",
    "      'Annual Report' in title):  # Just 1972.\n",
    "    year, month = row[cols_to_index['conference']].split('-')\n",
    "    statistical_rows.append(row)\n",
    "    if month != '04':\n",
    "      print('Address given in October:')\n",
    "      print(row)\n",
    "      print()\n",
    "    if len(statistical_rows) == 1:\n",
    "      continue\n",
    "    last_row = statistical_rows[-2]\n",
    "    last_year, last_month = last_row[cols_to_index['conference']].split('-')\n",
    "    duration = int(year) - int(last_year)\n",
    "    if duration == 2:\n",
    "      print('Missing year between {} and {}.'.format(last_year, year))\n",
    "    elif duration == 0:\n",
    "      print('Duplicate year {}:'.format(year))\n",
    "      print(last_row)\n",
    "      print(row)\n",
    "      print()\n",
    "len(statistical_rows)"
   ]
  },
  {
   "cell_type": "markdown",
   "id": "48a41460-2611-47f1-afdb-128a80859563",
   "metadata": {},
   "source": [
    "## Audit Report\n",
    "\n",
    "These occur every year in April."
   ]
  },
  {
   "cell_type": "code",
   "execution_count": null,
   "id": "6f250796-cf60-451e-90db-e1bf687e5a6d",
   "metadata": {},
   "outputs": [],
   "source": [
    "audit_rows = list()\n",
    "for row in rows:\n",
    "  title = row[cols_to_index['title']]\n",
    "  if ('Finance Committee' in title or  # 1974 - 1980.\n",
    "      'Audit' in title):  # All other years.\n",
    "    audit_rows.append(row)\n",
    "    if len(audit_rows) == 1:\n",
    "      continue\n",
    "    year, month = row[cols_to_index['conference']].split('-')\n",
    "    last_row = audit_rows[-2]\n",
    "    last_year, last_month = last_row[cols_to_index['conference']].split('-')\n",
    "    duration = int(year) - int(last_year)\n",
    "    if duration > 1:\n",
    "      print('Missing year between {} and {}.'.format(last_year, year))\n",
    "    elif duration == 0:\n",
    "      print('Duplicate year {}:'.format(year))\n",
    "      print(last_row)\n",
    "      print(row)\n",
    "      print()\n",
    "len(audit_rows)"
   ]
  },
  {
   "cell_type": "markdown",
   "id": "d6c38997-79c4-4b90-9d05-d9553866a78d",
   "metadata": {},
   "source": [
    "## Video\n",
    "\n",
    "The first one that appears on the Church website as its own address occurred [in October, 2020](https://www.churchofjesuschrist.org/study/general-conference/2020/10/33video)."
   ]
  },
  {
   "cell_type": "code",
   "execution_count": null,
   "id": "5279c870-e59b-4e9a-b13c-af30fc9ffab5",
   "metadata": {},
   "outputs": [],
   "source": [
    "video_rows = list()\n",
    "for row in rows:\n",
    "  title = row[cols_to_index['title']]\n",
    "  if (title.startswith('Video:') or\n",
    "      (title.startswith('Faith in Every Footstep:') and row[cols_to_index['conference']] == '1997-04')):\n",
    "    video_rows.append(row)\n",
    "len(video_rows)"
   ]
  },
  {
   "cell_type": "markdown",
   "id": "82e7b5b6-c4b3-4a65-b147-f47164c68a7a",
   "metadata": {},
   "source": [
    "## Update\n",
    "\n",
    "Ensure that each row is assigned to only one category."
   ]
  },
  {
   "cell_type": "code",
   "execution_count": null,
   "id": "32a14803-1671-4a80-972e-ef67949b6948",
   "metadata": {},
   "outputs": [],
   "source": [
    "update_rows = [\n",
    "  *sustaining_rows,\n",
    "  *statistical_rows,\n",
    "  *audit_rows,\n",
    "  *video_rows\n",
    "]\n",
    "update_keys = set()\n",
    "for row in update_rows:\n",
    "  key = tuple(row[:2])\n",
    "  if key in update_keys:\n",
    "    raise ValueError('Duplicate update key: {}'.format(key))\n",
    "  update_keys.add(key)\n",
    "print(len(update_keys))\n",
    "len(update_keys) == len(update_rows)"
   ]
  },
  {
   "cell_type": "code",
   "execution_count": null,
   "id": "601944eb-3612-4f26-b14a-1fb0b10f79f2",
   "metadata": {},
   "outputs": [],
   "source": [
    "def update_category(rows_, category_, db_path_=namespaces.DATABASE_APP_DEFAULT):\n",
    "  updates = [(category_, *row[:2]) for row in rows_]\n",
    "  with sqlite3.connect(db_path_) as con:\n",
    "    con.executemany('UPDATE {} SET category=? WHERE conference=? AND ordinal=?'.format(table), updates)"
   ]
  },
  {
   "cell_type": "code",
   "execution_count": null,
   "id": "fcfb4ace-26b1-4867-bc01-72e349c1e62e",
   "metadata": {},
   "outputs": [],
   "source": [
    "update_category(sustaining_rows, 'sustaining')\n",
    "update_category(statistical_rows, 'statistical')\n",
    "update_category(audit_rows, 'audit')\n",
    "update_category(video_rows, 'video')"
   ]
  },
  {
   "cell_type": "code",
   "execution_count": null,
   "id": "e4d7720b-daff-44e1-b8bb-0393051dde58",
   "metadata": {},
   "outputs": [],
   "source": []
  }
 ],
 "metadata": {
  "kernelspec": {
   "display_name": "lectern-analyze",
   "language": "python",
   "name": "lectern-analyze"
  },
  "language_info": {
   "codemirror_mode": {
    "name": "ipython",
    "version": 3
   },
   "file_extension": ".py",
   "mimetype": "text/x-python",
   "name": "python",
   "nbconvert_exporter": "python",
   "pygments_lexer": "ipython3",
   "version": "3.8.0"
  }
 },
 "nbformat": 4,
 "nbformat_minor": 5
}
