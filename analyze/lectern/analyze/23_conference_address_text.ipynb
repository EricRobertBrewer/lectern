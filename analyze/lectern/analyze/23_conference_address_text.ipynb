{
 "cells": [
  {
   "cell_type": "code",
   "execution_count": null,
   "id": "99c3c986-deb5-4eca-8364-39567df131c7",
   "metadata": {},
   "outputs": [],
   "source": [
    "%cd ../.."
   ]
  },
  {
   "cell_type": "markdown",
   "id": "ae3c2964-5d77-466d-8e7a-b9c495135790",
   "metadata": {},
   "source": [
    "# 23_conference_address_text"
   ]
  },
  {
   "cell_type": "code",
   "execution_count": null,
   "id": "4fc46a6c-f020-450c-bf43-b5821b4976c6",
   "metadata": {},
   "outputs": [],
   "source": [
    "import operator\n",
    "import os\n",
    "import sqlite3\n",
    "from collections import defaultdict\n",
    "\n",
    "import pandas as pd\n",
    "from matplotlib import pyplot as plt\n",
    "\n",
    "from lectern.analyze import app_util, namespaces, plot_util"
   ]
  },
  {
   "cell_type": "code",
   "execution_count": null,
   "id": "9d3e319a-bce1-4d38-b86f-05a6e389fa7b",
   "metadata": {},
   "outputs": [],
   "source": [
    "table = namespaces.TABLE_GENERAL_CONFERENCE_ADDRESS\n",
    "with sqlite3.connect(namespaces.DATABASE_APP_DEFAULT) as con:\n",
    "  df = pd.read_sql_query('SELECT * FROM {} ORDER BY conference ASC, ordinal ASC;'.format(table), con)\n",
    "print(len(df))\n",
    "df.head(3)"
   ]
  },
  {
   "cell_type": "markdown",
   "id": "0e435a70-3f96-448f-9b60-7b565ab82b87",
   "metadata": {},
   "source": [
    "## Word Count"
   ]
  },
  {
   "cell_type": "code",
   "execution_count": null,
   "id": "e5a19917-3c60-48f8-b872-5d2f156c2e43",
   "metadata": {},
   "outputs": [],
   "source": [
    "def get_key_wc_fnames(df):\n",
    "  key_wc_fnames = list()\n",
    "  for _, row in df.iterrows():\n",
    "    key = app_util.get_general_conference_address_key(row)\n",
    "\n",
    "    filename = row['filename']\n",
    "    path = os.path.join(namespaces.APP_GENERAL_CONFERENCE,\n",
    "                        row['conference'],\n",
    "                        '{}.txt'.format(filename))\n",
    "    with open(path, 'r') as fd:\n",
    "      lines = fd.readlines()\n",
    "    wc = sum(len(line.split(' ')) for line in lines)\n",
    "    key_wc_fnames.append((key, wc, filename))\n",
    "  return key_wc_fnames"
   ]
  },
  {
   "cell_type": "code",
   "execution_count": null,
   "id": "4a844d33-56b7-412b-b049-259a9918d0a1",
   "metadata": {},
   "outputs": [],
   "source": [
    "key_wc_fnames = get_key_wc_fnames(df[df['category'].isnull()])\n",
    "key_wc_fnames[:5]"
   ]
  },
  {
   "cell_type": "code",
   "execution_count": null,
   "id": "c8e8c70e-1266-445e-926b-789b6bb3e8eb",
   "metadata": {},
   "outputs": [],
   "source": [
    "conference_ticks_no_category = plot_util.get_ticks(df[df['category'].isnull()]['conference'])\n",
    "\n",
    "plt.figure(figsize=(16, 8))\n",
    "plt.bar(list(range(len(key_wc_fnames))), list(map(operator.itemgetter(1), key_wc_fnames)), width=1)\n",
    "plt.title('Word Count of Addresses')\n",
    "plt.ylabel('Words')\n",
    "plt.xticks(*zip(*conference_ticks_no_category))\n",
    "plt.show()"
   ]
  },
  {
   "cell_type": "code",
   "execution_count": null,
   "id": "a134734c-e595-4abc-81c0-46c38198350e",
   "metadata": {},
   "outputs": [],
   "source": [
    "key_wc_fnames_sorted = list(sorted(key_wc_fnames, key=operator.itemgetter(1), reverse=True))\n",
    "key_wc_fnames_sorted[:5]"
   ]
  },
  {
   "cell_type": "code",
   "execution_count": null,
   "id": "d96d435a-2d32-4a37-b642-8291c5ae526a",
   "metadata": {},
   "outputs": [],
   "source": [
    "key_wc_fnames_sorted[-5:]"
   ]
  },
  {
   "cell_type": "code",
   "execution_count": null,
   "id": "015124c4-2755-4f05-9de0-7af49d1139db",
   "metadata": {},
   "outputs": [],
   "source": [
    "plt.figure(figsize=(16, 8))\n",
    "plt.bar(list(range(len(key_wc_fnames_sorted))), list(map(operator.itemgetter(1), key_wc_fnames_sorted)), width=1)\n",
    "plt.title('Word Count of Addresses, descending')\n",
    "plt.ylabel('Words')\n",
    "plt.xlabel('Rank')\n",
    "plt.show()"
   ]
  },
  {
   "cell_type": "code",
   "execution_count": null,
   "id": "991bf218-5b77-4b47-8ef2-6d4dfbb17d72",
   "metadata": {},
   "outputs": [],
   "source": []
  }
 ],
 "metadata": {
  "kernelspec": {
   "display_name": "lectern-analyze",
   "language": "python",
   "name": "lectern-analyze"
  },
  "language_info": {
   "codemirror_mode": {
    "name": "ipython",
    "version": 3
   },
   "file_extension": ".py",
   "mimetype": "text/x-python",
   "name": "python",
   "nbconvert_exporter": "python",
   "pygments_lexer": "ipython3",
   "version": "3.8.0"
  }
 },
 "nbformat": 4,
 "nbformat_minor": 5
}
