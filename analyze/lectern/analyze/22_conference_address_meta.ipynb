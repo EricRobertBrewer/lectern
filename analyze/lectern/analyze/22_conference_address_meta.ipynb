{
 "cells": [
  {
   "cell_type": "code",
   "execution_count": null,
   "id": "48a8810c-31db-4fa1-bf3f-77879fed209a",
   "metadata": {},
   "outputs": [],
   "source": [
    "%cd ../.."
   ]
  },
  {
   "cell_type": "markdown",
   "id": "b1679903-21e6-4648-94e9-eebad19e647a",
   "metadata": {},
   "source": [
    "# 22_conference_address_meta"
   ]
  },
  {
   "cell_type": "code",
   "execution_count": null,
   "id": "38989b8a",
   "metadata": {},
   "outputs": [],
   "source": [
    "import operator\n",
    "import sqlite3\n",
    "from collections import defaultdict\n",
    "\n",
    "import pandas as pd\n",
    "from matplotlib import pyplot as plt\n",
    "\n",
    "from lectern.analyze import namespaces, plot_util"
   ]
  },
  {
   "cell_type": "code",
   "execution_count": null,
   "id": "4f4e3d35-68d7-4bb5-8ed1-9eb06526d5a2",
   "metadata": {},
   "outputs": [],
   "source": [
    "def levenshtein(a, b, case_sensitive=False):\n",
    "  if not case_sensitive:\n",
    "    a, b = a.lower(), b.lower()\n",
    "  \n",
    "  d = [[max(i, j) for i in range(len(b) + 1)]\n",
    "       for j in range(len(a) + 1)]\n",
    "\n",
    "  for i in range(1, len(a) + 1):\n",
    "    for j in range(1, len(b) + 1):\n",
    "      deletion = d[i - 1][j] + 1\n",
    "      insertion = d[i][j - 1] + 1\n",
    "      cost = 0 if a[i - 1] == b[j - 1] else 1\n",
    "      substitution = d[i - 1][j - 1] + cost\n",
    "      d[i][j] = min(deletion, min(insertion, substitution))\n",
    "  \n",
    "  return d[-1][-1]"
   ]
  },
  {
   "cell_type": "code",
   "execution_count": null,
   "id": "35fc9fb5-c348-43d6-bee6-9d430491c062",
   "metadata": {},
   "outputs": [],
   "source": [
    "table = namespaces.TABLE_GENERAL_CONFERENCE_ADDRESS\n",
    "with sqlite3.connect(namespaces.DATABASE_APP_DEFAULT) as con:\n",
    "  df = pd.read_sql_query('SELECT * FROM {} ORDER BY conference ASC, ordinal ASC;'.format(table), con)\n",
    "print(len(df))\n",
    "df.head(3)"
   ]
  },
  {
   "cell_type": "code",
   "execution_count": null,
   "id": "395ee1db-a268-4cd3-88a9-e45da9144dd5",
   "metadata": {},
   "outputs": [],
   "source": [
    "conference_ticks = plot_util.get_ticks(df['conference'])"
   ]
  },
  {
   "cell_type": "markdown",
   "id": "1c88df2c-f2d4-49ba-90d3-331a353485b1",
   "metadata": {},
   "source": [
    "## Session"
   ]
  },
  {
   "cell_type": "code",
   "execution_count": null,
   "id": "53e78e78-7c83-4718-93f2-ebba5c338c48",
   "metadata": {},
   "outputs": [],
   "source": [
    "session_counts = df['session'].value_counts()\n",
    "len(session_counts)"
   ]
  },
  {
   "cell_type": "code",
   "execution_count": null,
   "id": "578b6807-28e3-4526-81d8-dcbf1ebe0566",
   "metadata": {},
   "outputs": [],
   "source": [
    "session_counts[:5]"
   ]
  },
  {
   "cell_type": "code",
   "execution_count": null,
   "id": "bdc9e259-fe94-478a-b714-a0182ef41ccf",
   "metadata": {},
   "outputs": [],
   "source": [
    "session_counts[-8:]"
   ]
  },
  {
   "cell_type": "markdown",
   "id": "a3ef9058-488d-480e-b201-56df954e0256",
   "metadata": {},
   "source": [
    "## Speaker"
   ]
  },
  {
   "cell_type": "code",
   "execution_count": null,
   "id": "361cade6-1d47-4b20-9231-0a343c4fada4",
   "metadata": {},
   "outputs": [],
   "source": [
    "df_no_speaker = df[df['speaker'].isnull()]\n",
    "print(len(df_no_speaker))\n",
    "df_no_speaker['title']"
   ]
  },
  {
   "cell_type": "code",
   "execution_count": null,
   "id": "c7639edb-2925-42d9-b733-667ed0657deb",
   "metadata": {},
   "outputs": [],
   "source": [
    "speaker_counts = df['speaker'].value_counts(dropna=True)\n",
    "len(speaker_counts)"
   ]
  },
  {
   "cell_type": "code",
   "execution_count": null,
   "id": "38eb3bcb-30c8-466a-8693-a0d9a150bc4a",
   "metadata": {},
   "outputs": [],
   "source": [
    "speaker_counts[:5]"
   ]
  },
  {
   "cell_type": "code",
   "execution_count": null,
   "id": "7421ea23-7ec3-410c-a706-c18f505ef23b",
   "metadata": {},
   "outputs": [],
   "source": [
    "speakers_sorted = sorted(list(speaker_counts.dropna().keys()))\n",
    "for i in range(1, len(speakers_sorted)):\n",
    "  prev = speakers_sorted[i - 1]\n",
    "  curr = speakers_sorted[i]\n",
    "  dist = levenshtein(prev, curr)\n",
    "  if dist <= 4:\n",
    "    print('Dist={:d} for {} and {}.'.format(dist, prev, curr))"
   ]
  },
  {
   "cell_type": "markdown",
   "id": "49051b15-b2d2-40e8-8374-4e6d6fab6a20",
   "metadata": {},
   "source": [
    "Christoffel Golden was [called in 2001](https://www.churchofjesuschrist.org/study/ensign/2001/05/news-of-the-church/elder-christoffel-golden-jr-of-the-seventy?lang=eng) and [held the Jr. suffix](https://www.churchofjesuschrist.org/study/general-conference/2013/04/the-father-and-the-son) until he [spoke in 2021](https://www.churchofjesuschrist.org/study/general-conference/2021/10/27golden). I don't care enough to fix the minor name discrepancy.\n",
    "\n",
    "LeGrand R. Curtis (Sr.) was [called in 1990](https://www.churchofjesuschrist.org/study/ensign/1990/05/news-of-the-church/elder-legrand-r-curtis-of-the-seventy?lang=eng). His son by the same name (Jr.) was [called in 2011](https://www.churchofjesuschrist.org/study/ensign/2011/05/news-of-the-church/elder-legrand-r-curtis-jr?lang=eng)."
   ]
  },
  {
   "cell_type": "markdown",
   "id": "66ba83ba-a8b8-4a3e-a4c5-86ffbece2760",
   "metadata": {},
   "source": [
    "## Title"
   ]
  },
  {
   "cell_type": "code",
   "execution_count": null,
   "id": "083ad5b2-5f9f-4034-99a2-81bade696955",
   "metadata": {},
   "outputs": [],
   "source": [
    "df[df['title'].isnull()]"
   ]
  },
  {
   "cell_type": "markdown",
   "id": "365dde64-b3f8-4a8d-999a-9c5f55483164",
   "metadata": {},
   "source": [
    "## Description & Kicker"
   ]
  },
  {
   "cell_type": "markdown",
   "id": "eb2f45fc-2f21-454b-8ab4-87ba31487ed1",
   "metadata": {},
   "source": [
    "How often and when were these two values the same?"
   ]
  },
  {
   "cell_type": "code",
   "execution_count": null,
   "id": "94824ad6-ff83-4cc6-a5cb-50e719a56e2a",
   "metadata": {},
   "outputs": [],
   "source": [
    "eq_desc_kicker = df['description'] == df['kicker']\n",
    "df_eq_desc_kicker = df[eq_desc_kicker]\n",
    "print(len(df_eq_desc_kicker))\n",
    "\n",
    "plt.figure(figsize=(16, 1.6))\n",
    "plt.bar(list(range(len(df))), eq_desc_kicker.astype(int), width=1)\n",
    "plt.title('Addresses Where Description is Identical to Kicker')\n",
    "plt.ylabel('Identical')\n",
    "plt.xticks(*zip(*conference_ticks))\n",
    "plt.show()"
   ]
  },
  {
   "cell_type": "markdown",
   "id": "07299de4-68dd-4ff6-9632-93e4ffad1312",
   "metadata": {},
   "source": [
    "How often and when did neither value exist?"
   ]
  },
  {
   "cell_type": "code",
   "execution_count": null,
   "id": "c40a3fd3-8413-4ab9-ad44-f12f409ddea4",
   "metadata": {},
   "outputs": [],
   "source": [
    "no_desc_kicker = df['description'].isnull() & df['kicker'].isnull()\n",
    "df_no_desc_kicker = df[no_desc_kicker]\n",
    "print(len(df_no_desc_kicker))\n",
    "\n",
    "plt.figure(figsize=(16, 1.6))\n",
    "plt.bar(list(range(len(df))), no_desc_kicker.astype(int), width=1)\n",
    "plt.title('Addresses Without Description or Kicker')\n",
    "plt.ylabel('Neither')\n",
    "plt.xticks(*zip(*conference_ticks))\n",
    "plt.show()"
   ]
  },
  {
   "cell_type": "markdown",
   "id": "10c317bd-56d2-45ad-bbaa-3e45a00c3a1a",
   "metadata": {},
   "source": [
    "## Role"
   ]
  },
  {
   "cell_type": "code",
   "execution_count": null,
   "id": "e999d4c6-71db-471b-aa85-47c20c6bcba1",
   "metadata": {},
   "outputs": [],
   "source": [
    "df_no_role = df[df['role'].isnull()]\n",
    "len(df_no_role)"
   ]
  },
  {
   "cell_type": "code",
   "execution_count": null,
   "id": "42d10a3e-e24b-440b-995c-43bb38489570",
   "metadata": {},
   "outputs": [],
   "source": [
    "category_counts_no_role = df_no_role['category'].value_counts(dropna=False)\n",
    "category_counts_no_role"
   ]
  },
  {
   "cell_type": "code",
   "execution_count": null,
   "id": "54714897-92c5-46ba-9c00-bbd169e45fd1",
   "metadata": {},
   "outputs": [],
   "source": [
    "df_no_role[df_no_role['category'].isnull()]"
   ]
  },
  {
   "cell_type": "code",
   "execution_count": null,
   "id": "7d75d612-31da-4677-85fa-1a5cbd9dabf3",
   "metadata": {},
   "outputs": [],
   "source": []
  }
 ],
 "metadata": {
  "kernelspec": {
   "display_name": "lectern-analyze",
   "language": "python",
   "name": "lectern-analyze"
  },
  "language_info": {
   "codemirror_mode": {
    "name": "ipython",
    "version": 3
   },
   "file_extension": ".py",
   "mimetype": "text/x-python",
   "name": "python",
   "nbconvert_exporter": "python",
   "pygments_lexer": "ipython3",
   "version": "3.8.0"
  }
 },
 "nbformat": 4,
 "nbformat_minor": 5
}
