{
 "cells": [
  {
   "cell_type": "code",
   "execution_count": null,
   "id": "5b52ac36-b5e5-409c-bfb4-d2e00636e5ce",
   "metadata": {},
   "outputs": [],
   "source": [
    "%cd ../.."
   ]
  },
  {
   "cell_type": "markdown",
   "id": "c5c12a7f-06b1-4ce6-b876-e21df2c0c8d8",
   "metadata": {},
   "source": [
    "# 21_conference_meta"
   ]
  },
  {
   "cell_type": "code",
   "execution_count": null,
   "id": "10e9400e-a9b2-4bfb-bde4-b9d40e7d2487",
   "metadata": {},
   "outputs": [],
   "source": [
    "import sqlite3\n",
    "\n",
    "import pandas as pd\n",
    "from matplotlib import pyplot as plt\n",
    "\n",
    "from lectern.analyze import namespaces"
   ]
  },
  {
   "cell_type": "code",
   "execution_count": null,
   "id": "dad85545-15ef-4a07-92dc-5c687b14a92c",
   "metadata": {},
   "outputs": [],
   "source": [
    "table = namespaces.TABLE_GENERAL_CONFERENCE\n",
    "with sqlite3.connect(namespaces.DATABASE_APP_DEFAULT) as con:\n",
    "  df = pd.read_sql_query('SELECT * FROM {} ORDER BY conference ASC;'.format(table), con)\n",
    "print(len(df))\n",
    "df.head(5)"
   ]
  },
  {
   "cell_type": "markdown",
   "id": "22c08897-f371-4eec-9710-07f65018d2f5",
   "metadata": {},
   "source": [
    "## Count\n",
    "\n",
    "Does any particular time period have a relatively low or high number of addresses?"
   ]
  },
  {
   "cell_type": "code",
   "execution_count": null,
   "id": "34a3df22-c77c-4e50-bd5d-e6cc31c9aec7",
   "metadata": {},
   "outputs": [],
   "source": [
    "plt.figure(figsize=(14.4, 7.2))\n",
    "plt.bar(list(range(len(df))), df['count'], width=1)\n",
    "plt.title('Number of addresses per conference')\n",
    "plt.ylabel('# of addresses')\n",
    "plt.xlabel('Conference')\n",
    "r_10 = range(0, len(df), 10)\n",
    "plt.xticks(list(r_10), [df['conference'][i] for i in r_10], rotation=-22.5, ha='left')\n",
    "plt.show()"
   ]
  },
  {
   "cell_type": "markdown",
   "id": "8ae3606a-5b6b-4c51-9701-d2ae9515b051",
   "metadata": {},
   "source": [
    "The conferences in the early to mid-1970s were held over three days.\n",
    "\n",
    "The conferences in the mid 1970s to early 1980s had an additional Welfare Session."
   ]
  },
  {
   "cell_type": "code",
   "execution_count": null,
   "id": "3715bee3-4e76-47fe-ba52-f1471b004524",
   "metadata": {},
   "outputs": [],
   "source": [
    "plt.figure(figsize=(14.4, 7.2))\n",
    "plt.bar(list(range(len(df))), sorted(df['count']), width=1)\n",
    "plt.title('Number of addresses per conference (ascending)')\n",
    "plt.ylabel('# of addresses')\n",
    "plt.show()"
   ]
  },
  {
   "cell_type": "code",
   "execution_count": null,
   "id": "dcec4e59-b824-499e-8ce9-321366c012c5",
   "metadata": {},
   "outputs": [],
   "source": []
  }
 ],
 "metadata": {
  "kernelspec": {
   "display_name": "lectern-analyze",
   "language": "python",
   "name": "lectern-analyze"
  },
  "language_info": {
   "codemirror_mode": {
    "name": "ipython",
    "version": 3
   },
   "file_extension": ".py",
   "mimetype": "text/x-python",
   "name": "python",
   "nbconvert_exporter": "python",
   "pygments_lexer": "ipython3",
   "version": "3.8.0"
  }
 },
 "nbformat": 4,
 "nbformat_minor": 5
}
